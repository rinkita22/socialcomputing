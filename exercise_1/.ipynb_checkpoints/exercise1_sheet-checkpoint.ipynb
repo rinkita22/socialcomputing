{
 "cells": [
  {
   "cell_type": "markdown",
   "metadata": {
    "collapsed": true
   },
   "source": [
    "# Social Computing - Summer 2018\n",
    "# Exercise 1 - Introduction to Python\n",
    "\n",
    "This is small set of programming problems to help you to get familiar with the Python programming language. The aim is to cover Python core concepts and data structures that should be used in the next exercises.\n",
    "\n",
    "### Problem 1.1: Just Getting Warmed Up (Methods): Fibonacci Series\n",
    "Write a Python method called fibonacci, that takes an integer number N as argument and returns the Fibonacci sequence of length N.\n",
    "\n",
    "Remember: a Fibonacci sequence is a sequence of numbers where each number is the sum of the two previous ones. \n",
    "(E.g The Fibonacci sequence of length 5 is: 1, 2, 3, 5, 8 )"
   ]
  },
  {
   "cell_type": "code",
   "execution_count": 1,
   "metadata": {},
   "outputs": [],
   "source": [
    "# Write your Python method here\n",
    "\n",
    "def fibonacci(N):\n",
    "    fib = list()    \n",
    "    fib.append(1)\n",
    "    fib.append(1)\n",
    "    for i in range(2,N+1):\n",
    "        fib.append(fib[i-1] + fib[i-2])\n",
    "    return fib[1:]\n"
   ]
  },
  {
   "cell_type": "markdown",
   "metadata": {
    "collapsed": true
   },
   "source": [
    "### Problem 1.2: Loops and user input..\n",
    "\n",
    "In this section you will program a litte \"Guess the number game\". The computer will think about a random number between 1 and 100. The player will have 5 tries to guess the number correctly. Each time the player guesses the computer gives a hint ( higher/lower). At the end the correct guessed or not guessed number, as well as the needed tries to get there should be printed out in the console.\n"
   ]
  },
  {
   "cell_type": "code",
   "execution_count": 2,
   "metadata": {},
   "outputs": [
    {
     "name": "stdout",
     "output_type": "stream",
     "text": [
      "\tWelcome to 'Guess My Number'!\n",
      "\n",
      "I'm thinking of a number between 1 and 100.\n",
      "Try to guess it in as few attempts as possible.\n",
      "\n",
      "Enter your guess: 34\n",
      "Hint: Enter lower number\n",
      "Enter your guess: 24\n",
      "Hint: Enter lower number\n",
      "Enter your guess: 20\n",
      "You guessed it right! , the number was num 20\n",
      "It took you only 3 trials\n"
     ]
    }
   ],
   "source": [
    "import random\n",
    "\n",
    "print(\"\\tWelcome to 'Guess My Number'!\")\n",
    "print(\"\\nI'm thinking of a number between 1 and 100.\")\n",
    "print(\"Try to guess it in as few attempts as possible.\\n\")\n",
    "\n",
    "# set the initial values\n",
    "the_number = random.randint(1, 100)\n",
    "num = 0\n",
    "for i in range(0,5):\n",
    "    num = input(\"Enter your guess: \")\n",
    "    if int(num) == the_number:\n",
    "        print(\"You guessed it right! , the number was num {}\".format(the_number))\n",
    "        print(\"It took you only {} trials\".format(i+1))\n",
    "        break\n",
    "    elif int(num) < the_number and i !=4:\n",
    "        print(\"Hint: Enter higher number\")\n",
    "    elif int(num) > the_number and i !=4:\n",
    "        print(\"Hint: Enter lower number\")\n",
    "if int(num) != the_number:\n",
    "    print(\"You lost the game\")\n",
    "\n",
    "        \n",
    "# write your code here"
   ]
  },
  {
   "cell_type": "markdown",
   "metadata": {},
   "source": [
    "### Problem 1.3: It's Social Computing, we use graphs, a lot of graphs... Python igraph:\n",
    "In social computing research, we need powerful tools to create, maniuplate, and display graphs. Luckily, there is a plethora of tools and libaries for that. For the next exercises, we are going to use igraph [http://igraph.org/] which also comes as a Python library [http://igraph.org/python/]. igraph provides rich graph data structures and many out-of-the-box functions to process graphs and calculate different metrics.\n",
    "As mentioned in [http://igraph.org/python/], to install python igraph, <br>\n",
    "<b>On Mac OS X</b><br>\n",
    "you to run the command:<br>\n",
    "pip install python-igraph<br>\n",
    "\n",
    "<b>On Windows:</b><br>\n",
    "pip install python-igraph may not work for you!<br>\n",
    "You will need to install the library from [http://www.lfd.uci.edu/~gohlke/pythonlibs/].<br>\n",
    "Pick the library suitable for your Python version and your computer architecture. E.g.<br>\n",
    "python_igraph-0.7.1.post6-cp27-none-win_amd64.whl (this is for Python 2.7 (cp27), and amd 64 bit architecture)<br>\n",
    "Note: these whl files are run with the pip command.<br>\n",
    "A more detailled explanation of the installation can be found in the \"istallation guide iPython.pdf\" on Piazza.<br>\n",
    "\n",
    "The purpose of this exercise is to make you familiar with the igraph Python library. The library includes famous graphs that can readily be instantiated and used.\n",
    "\n",
    "\n",
    "\n",
    "<b>Exercise Part 1:</b><br>\n",
    "Create a graph object that represents the Krackhardt Kite graph, which is a simple connected, unweighted, undirected social network.<br>\n",
    "Next, plot the graph<br>\n",
    "(**Note**: to enable igraph plotting functionality in IPython Notebook, you need to install the graphics library: Cairo [http://cairographics.org/] and PyCairo (or Py2Cairo depending on the Python version you use) [http://cairographics.org/pycairo/resources/].<br>\n",
    "<b>For Mac OS X</b>, the easiest way to install PyCairo is through homebrew [http://brew.sh/].<br>\n",
    "* First install homebrew using the command: /usr/bin/ruby -e \"$(curl -fsSL https://raw.githubusercontent.com/Homebrew/install/master/install)\"\n",
    "* run the command:<br>\n",
    "brew install py2cairo<br>\n",
    "\n",
    "<b>For Windows:</b><br>\n",
    "* You already have package installers you can download from the website [https://cairographics.org/pycairo/resources/]\n",
    "But they are for win32<br>\n",
    "* If you are running and 64bit machine, you can use unofficial installers from here<br> [http://www.lfd.uci.edu/~gohlke/pythonlibs/]:<br>\n",
    "Install the following library: pycairo-1.10.0-cp27-none-win_amd64.whl<br>\n",
    "Note: cp27 stands for python 2.7 (so pick the version relevant to your Python)<br>\n",
    "\n",
    "Now, that you are all set: Display the graph and notice how it looks. If you are experiencing errors with the graph visualization, it is most likely because cairo or py2cairo are not installed correctly. <br>\n",
    "\n",
    "For further information about igraph, we recommend the following tutorial: http://igraph.org/python/doc/tutorial/tutorial.html\n",
    "\n",
    "\n",
    "<b>Background information: Graph Visualization</b><br>\n",
    "Graph visualization is the research area in mathematics/computer science concerned with drawing graphs. It has applications in many fields, one of them is social computing. The quality of a graph visualization is measured based on certain criteria, for example: crossing minimization, and bend minimization. There are many graph drawing algorithms that vary in their quality according to the graph's application and size. One technique is drawing graphs by using physical analogies. The basic idea of this technique is to associate edges between graph nodes with physical forces acting upon the nodes and computing an energy minimum. By setting off the dynamics that is induced by the forces, the graph will finally settle into a natural optimal display. A famous algorithm that implements this technique is the Fruchtermann/Rheingold algorithm. Its basic idea is to replace the graph edges with mechanical springs, and let the springs move the system to a minimal energy state.<br>\n",
    "\n",
    "<b>Exercise Part 2:</b><br>\n",
    "Using igraph, display a small world graph (Watts Strogatz graph) with 20 nodes and the following parameters: dimension: 1, nodes connected to neighbors of distance of most: 3, and rewiring probability: 0. Now vary the parameters and run your code again. What do you notice? What happens when you increase the rewiring probability (e.g., to 0.25). <br> \n",
    "Set the graph layout to Fruchtermann/Reingold. What changes? <br>\n",
    "Don't write more than 5 sentences."
   ]
  },
  {
   "cell_type": "code",
   "execution_count": 6,
   "metadata": {
    "scrolled": true
   },
   "outputs": [
    {
     "data": {
      "image/svg+xml": [
       "<?xml version=\"1.0\" encoding=\"UTF-8\"?>\n",
       "<svg xmlns=\"http://www.w3.org/2000/svg\" xmlns:xlink=\"http://www.w3.org/1999/xlink\" width=\"600pt\" height=\"600pt\" viewBox=\"0 0 600 600\" version=\"1.1\">\n",
       "<g id=\"surface2\">\n",
       "<rect x=\"0\" y=\"0\" width=\"600\" height=\"600\" style=\"fill:rgb(100%,100%,100%);fill-opacity:1;stroke:none;\"/>\n",
       "<path style=\"fill:none;stroke-width:1;stroke-linecap:butt;stroke-linejoin:miter;stroke:rgb(26.666667%,26.666667%,26.666667%);stroke-opacity:1;stroke-miterlimit:10;\" d=\"M 193.953125 580 L 38.695312 469.953125 \"/>\n",
       "<path style=\"fill:none;stroke-width:1;stroke-linecap:butt;stroke-linejoin:miter;stroke:rgb(26.666667%,26.666667%,26.666667%);stroke-opacity:1;stroke-miterlimit:10;\" d=\"M 193.953125 580 L 344.726562 570.71875 \"/>\n",
       "<path style=\"fill:none;stroke-width:1;stroke-linecap:butt;stroke-linejoin:miter;stroke:rgb(26.666667%,26.666667%,26.666667%);stroke-opacity:1;stroke-miterlimit:10;\" d=\"M 193.953125 580 L 176.976562 461.171875 \"/>\n",
       "<path style=\"fill:none;stroke-width:1;stroke-linecap:butt;stroke-linejoin:miter;stroke:rgb(26.666667%,26.666667%,26.666667%);stroke-opacity:1;stroke-miterlimit:10;\" d=\"M 193.953125 580 L 332.53125 429.167969 \"/>\n",
       "<path style=\"fill:none;stroke-width:1;stroke-linecap:butt;stroke-linejoin:miter;stroke:rgb(26.666667%,26.666667%,26.666667%);stroke-opacity:1;stroke-miterlimit:10;\" d=\"M 38.695312 469.953125 L 176.976562 461.171875 \"/>\n",
       "<path style=\"fill:none;stroke-width:1;stroke-linecap:butt;stroke-linejoin:miter;stroke:rgb(26.666667%,26.666667%,26.666667%);stroke-opacity:1;stroke-miterlimit:10;\" d=\"M 38.695312 469.953125 L 20 340.378906 \"/>\n",
       "<path style=\"fill:none;stroke-width:1;stroke-linecap:butt;stroke-linejoin:miter;stroke:rgb(26.666667%,26.666667%,26.666667%);stroke-opacity:1;stroke-miterlimit:10;\" d=\"M 38.695312 469.953125 L 182.910156 322.953125 \"/>\n",
       "<path style=\"fill:none;stroke-width:1;stroke-linecap:butt;stroke-linejoin:miter;stroke:rgb(26.666667%,26.666667%,26.666667%);stroke-opacity:1;stroke-miterlimit:10;\" d=\"M 344.726562 570.71875 L 176.976562 461.171875 \"/>\n",
       "<path style=\"fill:none;stroke-width:1;stroke-linecap:butt;stroke-linejoin:miter;stroke:rgb(26.666667%,26.666667%,26.666667%);stroke-opacity:1;stroke-miterlimit:10;\" d=\"M 344.726562 570.71875 L 332.53125 429.167969 \"/>\n",
       "<path style=\"fill:none;stroke-width:1;stroke-linecap:butt;stroke-linejoin:miter;stroke:rgb(26.666667%,26.666667%,26.666667%);stroke-opacity:1;stroke-miterlimit:10;\" d=\"M 176.976562 461.171875 L 20 340.378906 \"/>\n",
       "<path style=\"fill:none;stroke-width:1;stroke-linecap:butt;stroke-linejoin:miter;stroke:rgb(26.666667%,26.666667%,26.666667%);stroke-opacity:1;stroke-miterlimit:10;\" d=\"M 176.976562 461.171875 L 332.53125 429.167969 \"/>\n",
       "<path style=\"fill:none;stroke-width:1;stroke-linecap:butt;stroke-linejoin:miter;stroke:rgb(26.666667%,26.666667%,26.666667%);stroke-opacity:1;stroke-miterlimit:10;\" d=\"M 176.976562 461.171875 L 182.910156 322.953125 \"/>\n",
       "<path style=\"fill:none;stroke-width:1;stroke-linecap:butt;stroke-linejoin:miter;stroke:rgb(26.666667%,26.666667%,26.666667%);stroke-opacity:1;stroke-miterlimit:10;\" d=\"M 20 340.378906 L 182.910156 322.953125 \"/>\n",
       "<path style=\"fill:none;stroke-width:1;stroke-linecap:butt;stroke-linejoin:miter;stroke:rgb(26.666667%,26.666667%,26.666667%);stroke-opacity:1;stroke-miterlimit:10;\" d=\"M 332.53125 429.167969 L 182.910156 322.953125 \"/>\n",
       "<path style=\"fill:none;stroke-width:1;stroke-linecap:butt;stroke-linejoin:miter;stroke:rgb(26.666667%,26.666667%,26.666667%);stroke-opacity:1;stroke-miterlimit:10;\" d=\"M 332.53125 429.167969 L 358.386719 270.625 \"/>\n",
       "<path style=\"fill:none;stroke-width:1;stroke-linecap:butt;stroke-linejoin:miter;stroke:rgb(26.666667%,26.666667%,26.666667%);stroke-opacity:1;stroke-miterlimit:10;\" d=\"M 182.910156 322.953125 L 358.386719 270.625 \"/>\n",
       "<path style=\"fill:none;stroke-width:1;stroke-linecap:butt;stroke-linejoin:miter;stroke:rgb(26.666667%,26.666667%,26.666667%);stroke-opacity:1;stroke-miterlimit:10;\" d=\"M 358.386719 270.625 L 474.59375 146.417969 \"/>\n",
       "<path style=\"fill:none;stroke-width:1;stroke-linecap:butt;stroke-linejoin:miter;stroke:rgb(26.666667%,26.666667%,26.666667%);stroke-opacity:1;stroke-miterlimit:10;\" d=\"M 474.59375 146.417969 L 580 20 \"/>\n",
       "<path style=\"fill-rule:nonzero;fill:rgb(100%,0%,0%);fill-opacity:1;stroke-width:1;stroke-linecap:butt;stroke-linejoin:miter;stroke:rgb(0%,0%,0%);stroke-opacity:1;stroke-miterlimit:10;\" d=\"M 203.953125 580 C 203.953125 585.523438 199.476562 590 193.953125 590 C 188.433594 590 183.953125 585.523438 183.953125 580 C 183.953125 574.476562 188.433594 570 193.953125 570 C 199.476562 570 203.953125 574.476562 203.953125 580 \"/>\n",
       "<path style=\"fill-rule:nonzero;fill:rgb(100%,0%,0%);fill-opacity:1;stroke-width:1;stroke-linecap:butt;stroke-linejoin:miter;stroke:rgb(0%,0%,0%);stroke-opacity:1;stroke-miterlimit:10;\" d=\"M 48.695312 469.953125 C 48.695312 475.476562 44.21875 479.953125 38.695312 479.953125 C 33.171875 479.953125 28.695312 475.476562 28.695312 469.953125 C 28.695312 464.429688 33.171875 459.953125 38.695312 459.953125 C 44.21875 459.953125 48.695312 464.429688 48.695312 469.953125 \"/>\n",
       "<path style=\"fill-rule:nonzero;fill:rgb(100%,0%,0%);fill-opacity:1;stroke-width:1;stroke-linecap:butt;stroke-linejoin:miter;stroke:rgb(0%,0%,0%);stroke-opacity:1;stroke-miterlimit:10;\" d=\"M 354.726562 570.71875 C 354.726562 576.242188 350.25 580.71875 344.726562 580.71875 C 339.203125 580.71875 334.726562 576.242188 334.726562 570.71875 C 334.726562 565.195312 339.203125 560.71875 344.726562 560.71875 C 350.25 560.71875 354.726562 565.195312 354.726562 570.71875 \"/>\n",
       "<path style=\"fill-rule:nonzero;fill:rgb(100%,0%,0%);fill-opacity:1;stroke-width:1;stroke-linecap:butt;stroke-linejoin:miter;stroke:rgb(0%,0%,0%);stroke-opacity:1;stroke-miterlimit:10;\" d=\"M 186.976562 461.171875 C 186.976562 466.691406 182.496094 471.171875 176.976562 471.171875 C 171.453125 471.171875 166.976562 466.691406 166.976562 461.171875 C 166.976562 455.648438 171.453125 451.171875 176.976562 451.171875 C 182.496094 451.171875 186.976562 455.648438 186.976562 461.171875 \"/>\n",
       "<path style=\"fill-rule:nonzero;fill:rgb(100%,0%,0%);fill-opacity:1;stroke-width:1;stroke-linecap:butt;stroke-linejoin:miter;stroke:rgb(0%,0%,0%);stroke-opacity:1;stroke-miterlimit:10;\" d=\"M 30 340.378906 C 30 345.902344 25.523438 350.378906 20 350.378906 C 14.476562 350.378906 10 345.902344 10 340.378906 C 10 334.855469 14.476562 330.378906 20 330.378906 C 25.523438 330.378906 30 334.855469 30 340.378906 \"/>\n",
       "<path style=\"fill-rule:nonzero;fill:rgb(100%,0%,0%);fill-opacity:1;stroke-width:1;stroke-linecap:butt;stroke-linejoin:miter;stroke:rgb(0%,0%,0%);stroke-opacity:1;stroke-miterlimit:10;\" d=\"M 342.53125 429.167969 C 342.53125 434.691406 338.054688 439.167969 332.53125 439.167969 C 327.007812 439.167969 322.53125 434.691406 322.53125 429.167969 C 322.53125 423.644531 327.007812 419.167969 332.53125 419.167969 C 338.054688 419.167969 342.53125 423.644531 342.53125 429.167969 \"/>\n",
       "<path style=\"fill-rule:nonzero;fill:rgb(100%,0%,0%);fill-opacity:1;stroke-width:1;stroke-linecap:butt;stroke-linejoin:miter;stroke:rgb(0%,0%,0%);stroke-opacity:1;stroke-miterlimit:10;\" d=\"M 192.910156 322.953125 C 192.910156 328.472656 188.433594 332.953125 182.910156 332.953125 C 177.390625 332.953125 172.910156 328.472656 172.910156 322.953125 C 172.910156 317.429688 177.390625 312.953125 182.910156 312.953125 C 188.433594 312.953125 192.910156 317.429688 192.910156 322.953125 \"/>\n",
       "<path style=\"fill-rule:nonzero;fill:rgb(100%,0%,0%);fill-opacity:1;stroke-width:1;stroke-linecap:butt;stroke-linejoin:miter;stroke:rgb(0%,0%,0%);stroke-opacity:1;stroke-miterlimit:10;\" d=\"M 368.386719 270.625 C 368.386719 276.148438 363.910156 280.625 358.386719 280.625 C 352.863281 280.625 348.386719 276.148438 348.386719 270.625 C 348.386719 265.105469 352.863281 260.625 358.386719 260.625 C 363.910156 260.625 368.386719 265.105469 368.386719 270.625 \"/>\n",
       "<path style=\"fill-rule:nonzero;fill:rgb(100%,0%,0%);fill-opacity:1;stroke-width:1;stroke-linecap:butt;stroke-linejoin:miter;stroke:rgb(0%,0%,0%);stroke-opacity:1;stroke-miterlimit:10;\" d=\"M 484.59375 146.417969 C 484.59375 151.941406 480.117188 156.417969 474.59375 156.417969 C 469.070312 156.417969 464.59375 151.941406 464.59375 146.417969 C 464.59375 140.894531 469.070312 136.417969 474.59375 136.417969 C 480.117188 136.417969 484.59375 140.894531 484.59375 146.417969 \"/>\n",
       "<path style=\"fill-rule:nonzero;fill:rgb(100%,0%,0%);fill-opacity:1;stroke-width:1;stroke-linecap:butt;stroke-linejoin:miter;stroke:rgb(0%,0%,0%);stroke-opacity:1;stroke-miterlimit:10;\" d=\"M 590 20 C 590 25.523438 585.523438 30 580 30 C 574.476562 30 570 25.523438 570 20 C 570 14.476562 574.476562 10 580 10 C 585.523438 10 590 14.476562 590 20 \"/>\n",
       "</g>\n",
       "</svg>\n"
      ],
      "text/plain": [
       "<igraph.drawing.Plot at 0x7fbea00aec90>"
      ]
     },
     "execution_count": 6,
     "metadata": {},
     "output_type": "execute_result"
    }
   ],
   "source": [
    "# solve Exercise P1\n",
    "# Hint: Use igraph functions\n",
    "import cairocffi as cairo \n",
    "import igraph as ig\n",
    "\n",
    "# import cairo\n",
    "kite = ig.Graph.Famous(\"Krackhardt_Kite\")\n",
    "\n",
    "ig.plot(kite)\n"
   ]
  },
  {
   "cell_type": "code",
   "execution_count": 32,
   "metadata": {},
   "outputs": [
    {
     "data": {
      "image/svg+xml": [
       "<?xml version=\"1.0\" encoding=\"UTF-8\"?>\n",
       "<svg xmlns=\"http://www.w3.org/2000/svg\" xmlns:xlink=\"http://www.w3.org/1999/xlink\" width=\"600pt\" height=\"600pt\" viewBox=\"0 0 600 600\" version=\"1.1\">\n",
       "<g id=\"surface149\">\n",
       "<rect x=\"0\" y=\"0\" width=\"600\" height=\"600\" style=\"fill:rgb(100%,100%,100%);fill-opacity:1;stroke:none;\"/>\n",
       "<path style=\"fill:none;stroke-width:1;stroke-linecap:butt;stroke-linejoin:miter;stroke:rgb(26.666667%,26.666667%,26.666667%);stroke-opacity:1;stroke-miterlimit:10;\" d=\"M 502.015625 247.410156 L 580 386.734375 \"/>\n",
       "<path style=\"fill:none;stroke-width:1;stroke-linecap:butt;stroke-linejoin:miter;stroke:rgb(26.666667%,26.666667%,26.666667%);stroke-opacity:1;stroke-miterlimit:10;\" d=\"M 205.605469 436.429688 L 387.046875 398.933594 \"/>\n",
       "<path style=\"fill:none;stroke-width:1;stroke-linecap:butt;stroke-linejoin:miter;stroke:rgb(26.666667%,26.666667%,26.666667%);stroke-opacity:1;stroke-miterlimit:10;\" d=\"M 580 386.734375 L 476.558594 396.957031 \"/>\n",
       "<path style=\"fill:none;stroke-width:1;stroke-linecap:butt;stroke-linejoin:miter;stroke:rgb(26.666667%,26.666667%,26.666667%);stroke-opacity:1;stroke-miterlimit:10;\" d=\"M 322.546875 481.230469 L 580 386.734375 \"/>\n",
       "<path style=\"fill:none;stroke-width:1;stroke-linecap:butt;stroke-linejoin:miter;stroke:rgb(26.666667%,26.666667%,26.666667%);stroke-opacity:1;stroke-miterlimit:10;\" d=\"M 416.421875 250.167969 L 423.550781 326.550781 \"/>\n",
       "<path style=\"fill:none;stroke-width:1;stroke-linecap:butt;stroke-linejoin:miter;stroke:rgb(26.666667%,26.666667%,26.666667%);stroke-opacity:1;stroke-miterlimit:10;\" d=\"M 265.8125 308.226562 L 476.558594 396.957031 \"/>\n",
       "<path style=\"fill:none;stroke-width:1;stroke-linecap:butt;stroke-linejoin:miter;stroke:rgb(26.666667%,26.666667%,26.666667%);stroke-opacity:1;stroke-miterlimit:10;\" d=\"M 322.546875 481.230469 L 423.550781 326.550781 \"/>\n",
       "<path style=\"fill:none;stroke-width:1;stroke-linecap:butt;stroke-linejoin:miter;stroke:rgb(26.666667%,26.666667%,26.666667%);stroke-opacity:1;stroke-miterlimit:10;\" d=\"M 416.421875 250.167969 L 476.558594 396.957031 \"/>\n",
       "<path style=\"fill:none;stroke-width:1;stroke-linecap:butt;stroke-linejoin:miter;stroke:rgb(26.666667%,26.666667%,26.666667%);stroke-opacity:1;stroke-miterlimit:10;\" d=\"M 357.832031 170.761719 L 502.015625 247.410156 \"/>\n",
       "<path style=\"fill:none;stroke-width:1;stroke-linecap:butt;stroke-linejoin:miter;stroke:rgb(26.666667%,26.666667%,26.666667%);stroke-opacity:1;stroke-miterlimit:10;\" d=\"M 54.976562 205.941406 L 173.007812 240.285156 \"/>\n",
       "<path style=\"fill:none;stroke-width:1;stroke-linecap:butt;stroke-linejoin:miter;stroke:rgb(26.666667%,26.666667%,26.666667%);stroke-opacity:1;stroke-miterlimit:10;\" d=\"M 322.546875 481.230469 L 476.558594 396.957031 \"/>\n",
       "<path style=\"fill:none;stroke-width:1;stroke-linecap:butt;stroke-linejoin:miter;stroke:rgb(26.666667%,26.666667%,26.666667%);stroke-opacity:1;stroke-miterlimit:10;\" d=\"M 416.421875 250.167969 L 266.574219 216.640625 \"/>\n",
       "<path style=\"fill:none;stroke-width:1;stroke-linecap:butt;stroke-linejoin:miter;stroke:rgb(26.666667%,26.666667%,26.666667%);stroke-opacity:1;stroke-miterlimit:10;\" d=\"M 510.066406 524.835938 L 476.558594 396.957031 \"/>\n",
       "<path style=\"fill:none;stroke-width:1;stroke-linecap:butt;stroke-linejoin:miter;stroke:rgb(26.666667%,26.666667%,26.666667%);stroke-opacity:1;stroke-miterlimit:10;\" d=\"M 266.574219 216.640625 L 502.015625 247.410156 \"/>\n",
       "<path style=\"fill:none;stroke-width:1;stroke-linecap:butt;stroke-linejoin:miter;stroke:rgb(26.666667%,26.666667%,26.666667%);stroke-opacity:1;stroke-miterlimit:10;\" d=\"M 173.007812 240.285156 L 265.8125 308.226562 \"/>\n",
       "<path style=\"fill:none;stroke-width:1;stroke-linecap:butt;stroke-linejoin:miter;stroke:rgb(26.666667%,26.666667%,26.666667%);stroke-opacity:1;stroke-miterlimit:10;\" d=\"M 173.007812 240.285156 L 20 421.195312 \"/>\n",
       "<path style=\"fill:none;stroke-width:1;stroke-linecap:butt;stroke-linejoin:miter;stroke:rgb(26.666667%,26.666667%,26.666667%);stroke-opacity:1;stroke-miterlimit:10;\" d=\"M 266.574219 216.640625 L 283.007812 389.953125 \"/>\n",
       "<path style=\"fill:none;stroke-width:1;stroke-linecap:butt;stroke-linejoin:miter;stroke:rgb(26.666667%,26.666667%,26.666667%);stroke-opacity:1;stroke-miterlimit:10;\" d=\"M 205.605469 436.429688 L 265.8125 308.226562 \"/>\n",
       "<path style=\"fill:none;stroke-width:1;stroke-linecap:butt;stroke-linejoin:miter;stroke:rgb(26.666667%,26.666667%,26.666667%);stroke-opacity:1;stroke-miterlimit:10;\" d=\"M 173.007812 240.285156 L 283.007812 389.953125 \"/>\n",
       "<path style=\"fill:none;stroke-width:1;stroke-linecap:butt;stroke-linejoin:miter;stroke:rgb(26.666667%,26.666667%,26.666667%);stroke-opacity:1;stroke-miterlimit:10;\" d=\"M 205.605469 436.429688 L 266.574219 216.640625 \"/>\n",
       "<path style=\"fill:none;stroke-width:1;stroke-linecap:butt;stroke-linejoin:miter;stroke:rgb(26.666667%,26.666667%,26.666667%);stroke-opacity:1;stroke-miterlimit:10;\" d=\"M 416.421875 250.167969 L 580 386.734375 \"/>\n",
       "<path style=\"fill:none;stroke-width:1;stroke-linecap:butt;stroke-linejoin:miter;stroke:rgb(26.666667%,26.666667%,26.666667%);stroke-opacity:1;stroke-miterlimit:10;\" d=\"M 173.007812 240.285156 L 387.046875 398.933594 \"/>\n",
       "<path style=\"fill:none;stroke-width:1;stroke-linecap:butt;stroke-linejoin:miter;stroke:rgb(26.666667%,26.666667%,26.666667%);stroke-opacity:1;stroke-miterlimit:10;\" d=\"M 20 421.195312 L 86.457031 580 \"/>\n",
       "<path style=\"fill:none;stroke-width:1;stroke-linecap:butt;stroke-linejoin:miter;stroke:rgb(26.666667%,26.666667%,26.666667%);stroke-opacity:1;stroke-miterlimit:10;\" d=\"M 173.007812 240.285156 L 211.46875 20 \"/>\n",
       "<path style=\"fill:none;stroke-width:1;stroke-linecap:butt;stroke-linejoin:miter;stroke:rgb(26.666667%,26.666667%,26.666667%);stroke-opacity:1;stroke-miterlimit:10;\" d=\"M 357.832031 170.761719 L 423.550781 326.550781 \"/>\n",
       "<path style=\"fill:none;stroke-width:1;stroke-linecap:butt;stroke-linejoin:miter;stroke:rgb(26.666667%,26.666667%,26.666667%);stroke-opacity:1;stroke-miterlimit:10;\" d=\"M 265.8125 308.226562 L 283.007812 389.953125 \"/>\n",
       "<path style=\"fill:none;stroke-width:1;stroke-linecap:butt;stroke-linejoin:miter;stroke:rgb(26.666667%,26.666667%,26.666667%);stroke-opacity:1;stroke-miterlimit:10;\" d=\"M 357.832031 170.761719 L 476.558594 396.957031 \"/>\n",
       "<path style=\"fill:none;stroke-width:1;stroke-linecap:butt;stroke-linejoin:miter;stroke:rgb(26.666667%,26.666667%,26.666667%);stroke-opacity:1;stroke-miterlimit:10;\" d=\"M 54.976562 205.941406 L 142.863281 365.296875 \"/>\n",
       "<path style=\"fill:none;stroke-width:1;stroke-linecap:butt;stroke-linejoin:miter;stroke:rgb(26.666667%,26.666667%,26.666667%);stroke-opacity:1;stroke-miterlimit:10;\" d=\"M 205.605469 436.429688 L 283.007812 389.953125 \"/>\n",
       "<path style=\"fill:none;stroke-width:1;stroke-linecap:butt;stroke-linejoin:miter;stroke:rgb(26.666667%,26.666667%,26.666667%);stroke-opacity:1;stroke-miterlimit:10;\" d=\"M 357.832031 170.761719 L 142.863281 365.296875 \"/>\n",
       "<path style=\"fill:none;stroke-width:1;stroke-linecap:butt;stroke-linejoin:miter;stroke:rgb(26.666667%,26.666667%,26.666667%);stroke-opacity:1;stroke-miterlimit:10;\" d=\"M 387.046875 398.933594 L 502.015625 247.410156 \"/>\n",
       "<path style=\"fill:none;stroke-width:1;stroke-linecap:butt;stroke-linejoin:miter;stroke:rgb(26.666667%,26.666667%,26.666667%);stroke-opacity:1;stroke-miterlimit:10;\" d=\"M 205.605469 436.429688 L 423.550781 326.550781 \"/>\n",
       "<path style=\"fill:none;stroke-width:1;stroke-linecap:butt;stroke-linejoin:miter;stroke:rgb(26.666667%,26.666667%,26.666667%);stroke-opacity:1;stroke-miterlimit:10;\" d=\"M 20 421.195312 L 142.863281 365.296875 \"/>\n",
       "<path style=\"fill:none;stroke-width:1;stroke-linecap:butt;stroke-linejoin:miter;stroke:rgb(26.666667%,26.666667%,26.666667%);stroke-opacity:1;stroke-miterlimit:10;\" d=\"M 502.015625 247.410156 L 283.007812 389.953125 \"/>\n",
       "<path style=\"fill:none;stroke-width:1;stroke-linecap:butt;stroke-linejoin:miter;stroke:rgb(26.666667%,26.666667%,26.666667%);stroke-opacity:1;stroke-miterlimit:10;\" d=\"M 173.007812 240.285156 L 416.421875 250.167969 \"/>\n",
       "<path style=\"fill:none;stroke-width:1;stroke-linecap:butt;stroke-linejoin:miter;stroke:rgb(26.666667%,26.666667%,26.666667%);stroke-opacity:1;stroke-miterlimit:10;\" d=\"M 54.976562 205.941406 L 266.574219 216.640625 \"/>\n",
       "<path style=\"fill:none;stroke-width:1;stroke-linecap:butt;stroke-linejoin:miter;stroke:rgb(26.666667%,26.666667%,26.666667%);stroke-opacity:1;stroke-miterlimit:10;\" d=\"M 283.007812 389.953125 L 352.925781 546.910156 \"/>\n",
       "<path style=\"fill:none;stroke-width:1;stroke-linecap:butt;stroke-linejoin:miter;stroke:rgb(26.666667%,26.666667%,26.666667%);stroke-opacity:1;stroke-miterlimit:10;\" d=\"M 502.015625 247.410156 L 423.550781 326.550781 \"/>\n",
       "<path style=\"fill:none;stroke-width:1;stroke-linecap:butt;stroke-linejoin:miter;stroke:rgb(26.666667%,26.666667%,26.666667%);stroke-opacity:1;stroke-miterlimit:10;\" d=\"M 510.066406 524.835938 L 352.925781 546.910156 \"/>\n",
       "<path style=\"fill:none;stroke-width:1;stroke-linecap:butt;stroke-linejoin:miter;stroke:rgb(26.666667%,26.666667%,26.666667%);stroke-opacity:1;stroke-miterlimit:10;\" d=\"M 416.421875 250.167969 L 387.046875 398.933594 \"/>\n",
       "<path style=\"fill:none;stroke-width:1;stroke-linecap:butt;stroke-linejoin:miter;stroke:rgb(26.666667%,26.666667%,26.666667%);stroke-opacity:1;stroke-miterlimit:10;\" d=\"M 265.8125 308.226562 L 266.574219 216.640625 \"/>\n",
       "<path style=\"fill:none;stroke-width:1;stroke-linecap:butt;stroke-linejoin:miter;stroke:rgb(26.666667%,26.666667%,26.666667%);stroke-opacity:1;stroke-miterlimit:10;\" d=\"M 357.832031 170.761719 L 266.574219 216.640625 \"/>\n",
       "<path style=\"fill:none;stroke-width:1;stroke-linecap:butt;stroke-linejoin:miter;stroke:rgb(26.666667%,26.666667%,26.666667%);stroke-opacity:1;stroke-miterlimit:10;\" d=\"M 211.46875 20 L 357.832031 170.761719 \"/>\n",
       "<path style=\"fill:none;stroke-width:1;stroke-linecap:butt;stroke-linejoin:miter;stroke:rgb(26.666667%,26.666667%,26.666667%);stroke-opacity:1;stroke-miterlimit:10;\" d=\"M 265.8125 308.226562 L 423.550781 326.550781 \"/>\n",
       "<path style=\"fill:none;stroke-width:1;stroke-linecap:butt;stroke-linejoin:miter;stroke:rgb(26.666667%,26.666667%,26.666667%);stroke-opacity:1;stroke-miterlimit:10;\" d=\"M 423.550781 326.550781 L 580 386.734375 \"/>\n",
       "<path style=\"fill:none;stroke-width:1;stroke-linecap:butt;stroke-linejoin:miter;stroke:rgb(26.666667%,26.666667%,26.666667%);stroke-opacity:1;stroke-miterlimit:10;\" d=\"M 54.976562 205.941406 L 265.8125 308.226562 \"/>\n",
       "<path style=\"fill:none;stroke-width:1;stroke-linecap:butt;stroke-linejoin:miter;stroke:rgb(26.666667%,26.666667%,26.666667%);stroke-opacity:1;stroke-miterlimit:10;\" d=\"M 142.863281 365.296875 L 352.925781 546.910156 \"/>\n",
       "<path style=\"fill:none;stroke-width:1;stroke-linecap:butt;stroke-linejoin:miter;stroke:rgb(26.666667%,26.666667%,26.666667%);stroke-opacity:1;stroke-miterlimit:10;\" d=\"M 510.066406 524.835938 L 387.046875 398.933594 \"/>\n",
       "<path style=\"fill:none;stroke-width:1;stroke-linecap:butt;stroke-linejoin:miter;stroke:rgb(26.666667%,26.666667%,26.666667%);stroke-opacity:1;stroke-miterlimit:10;\" d=\"M 205.605469 436.429688 L 86.457031 580 \"/>\n",
       "<path style=\"fill:none;stroke-width:1;stroke-linecap:butt;stroke-linejoin:miter;stroke:rgb(26.666667%,26.666667%,26.666667%);stroke-opacity:1;stroke-miterlimit:10;\" d=\"M 322.546875 481.230469 L 352.925781 546.910156 \"/>\n",
       "<path style=\"fill:none;stroke-width:1;stroke-linecap:butt;stroke-linejoin:miter;stroke:rgb(26.666667%,26.666667%,26.666667%);stroke-opacity:1;stroke-miterlimit:10;\" d=\"M 20 421.195312 L 283.007812 389.953125 \"/>\n",
       "<path style=\"fill:none;stroke-width:1;stroke-linecap:butt;stroke-linejoin:miter;stroke:rgb(26.666667%,26.666667%,26.666667%);stroke-opacity:1;stroke-miterlimit:10;\" d=\"M 322.546875 481.230469 L 86.457031 580 \"/>\n",
       "<path style=\"fill:none;stroke-width:1;stroke-linecap:butt;stroke-linejoin:miter;stroke:rgb(26.666667%,26.666667%,26.666667%);stroke-opacity:1;stroke-miterlimit:10;\" d=\"M 322.546875 481.230469 L 265.8125 308.226562 \"/>\n",
       "<path style=\"fill:none;stroke-width:1;stroke-linecap:butt;stroke-linejoin:miter;stroke:rgb(26.666667%,26.666667%,26.666667%);stroke-opacity:1;stroke-miterlimit:10;\" d=\"M 322.546875 481.230469 L 142.863281 365.296875 \"/>\n",
       "<path style=\"fill:none;stroke-width:1;stroke-linecap:butt;stroke-linejoin:miter;stroke:rgb(26.666667%,26.666667%,26.666667%);stroke-opacity:1;stroke-miterlimit:10;\" d=\"M 387.046875 398.933594 L 352.925781 546.910156 \"/>\n",
       "<path style=\"fill:none;stroke-width:1;stroke-linecap:butt;stroke-linejoin:miter;stroke:rgb(26.666667%,26.666667%,26.666667%);stroke-opacity:1;stroke-miterlimit:10;\" d=\"M 387.046875 398.933594 L 423.550781 326.550781 \"/>\n",
       "<path style=\"fill:none;stroke-width:1;stroke-linecap:butt;stroke-linejoin:miter;stroke:rgb(26.666667%,26.666667%,26.666667%);stroke-opacity:1;stroke-miterlimit:10;\" d=\"M 510.066406 524.835938 L 580 386.734375 \"/>\n",
       "<path style=\"fill:none;stroke-width:1;stroke-linecap:butt;stroke-linejoin:miter;stroke:rgb(26.666667%,26.666667%,26.666667%);stroke-opacity:1;stroke-miterlimit:10;\" d=\"M 416.421875 250.167969 L 265.8125 308.226562 \"/>\n",
       "<path style=\"fill:none;stroke-width:1;stroke-linecap:butt;stroke-linejoin:miter;stroke:rgb(26.666667%,26.666667%,26.666667%);stroke-opacity:1;stroke-miterlimit:10;\" d=\"M 476.558594 396.957031 L 352.925781 546.910156 \"/>\n",
       "<path style=\"fill:none;stroke-width:1;stroke-linecap:butt;stroke-linejoin:miter;stroke:rgb(26.666667%,26.666667%,26.666667%);stroke-opacity:1;stroke-miterlimit:10;\" d=\"M 510.066406 524.835938 L 283.007812 389.953125 \"/>\n",
       "<path style=\"fill-rule:nonzero;fill:rgb(100%,0%,0%);fill-opacity:1;stroke-width:1;stroke-linecap:butt;stroke-linejoin:miter;stroke:rgb(0%,0%,0%);stroke-opacity:1;stroke-miterlimit:10;\" d=\"M 332.546875 481.230469 C 332.546875 486.753906 328.070312 491.230469 322.546875 491.230469 C 317.023438 491.230469 312.546875 486.753906 312.546875 481.230469 C 312.546875 475.707031 317.023438 471.230469 322.546875 471.230469 C 328.070312 471.230469 332.546875 475.707031 332.546875 481.230469 \"/>\n",
       "<path style=\"fill-rule:nonzero;fill:rgb(100%,0%,0%);fill-opacity:1;stroke-width:1;stroke-linecap:butt;stroke-linejoin:miter;stroke:rgb(0%,0%,0%);stroke-opacity:1;stroke-miterlimit:10;\" d=\"M 64.976562 205.941406 C 64.976562 211.464844 60.5 215.941406 54.976562 215.941406 C 49.453125 215.941406 44.976562 211.464844 44.976562 205.941406 C 44.976562 200.417969 49.453125 195.941406 54.976562 195.941406 C 60.5 195.941406 64.976562 200.417969 64.976562 205.941406 \"/>\n",
       "<path style=\"fill-rule:nonzero;fill:rgb(100%,0%,0%);fill-opacity:1;stroke-width:1;stroke-linecap:butt;stroke-linejoin:miter;stroke:rgb(0%,0%,0%);stroke-opacity:1;stroke-miterlimit:10;\" d=\"M 183.007812 240.285156 C 183.007812 245.808594 178.53125 250.285156 173.007812 250.285156 C 167.484375 250.285156 163.007812 245.808594 163.007812 240.285156 C 163.007812 234.761719 167.484375 230.285156 173.007812 230.285156 C 178.53125 230.285156 183.007812 234.761719 183.007812 240.285156 \"/>\n",
       "<path style=\"fill-rule:nonzero;fill:rgb(100%,0%,0%);fill-opacity:1;stroke-width:1;stroke-linecap:butt;stroke-linejoin:miter;stroke:rgb(0%,0%,0%);stroke-opacity:1;stroke-miterlimit:10;\" d=\"M 215.605469 436.429688 C 215.605469 441.949219 211.128906 446.429688 205.605469 446.429688 C 200.082031 446.429688 195.605469 441.949219 195.605469 436.429688 C 195.605469 430.90625 200.082031 426.429688 205.605469 426.429688 C 211.128906 426.429688 215.605469 430.90625 215.605469 436.429688 \"/>\n",
       "<path style=\"fill-rule:nonzero;fill:rgb(100%,0%,0%);fill-opacity:1;stroke-width:1;stroke-linecap:butt;stroke-linejoin:miter;stroke:rgb(0%,0%,0%);stroke-opacity:1;stroke-miterlimit:10;\" d=\"M 426.421875 250.167969 C 426.421875 255.691406 421.941406 260.167969 416.421875 260.167969 C 410.898438 260.167969 406.421875 255.691406 406.421875 250.167969 C 406.421875 244.644531 410.898438 240.167969 416.421875 240.167969 C 421.941406 240.167969 426.421875 244.644531 426.421875 250.167969 \"/>\n",
       "<path style=\"fill-rule:nonzero;fill:rgb(100%,0%,0%);fill-opacity:1;stroke-width:1;stroke-linecap:butt;stroke-linejoin:miter;stroke:rgb(0%,0%,0%);stroke-opacity:1;stroke-miterlimit:10;\" d=\"M 221.46875 20 C 221.46875 25.523438 216.992188 30 211.46875 30 C 205.949219 30 201.46875 25.523438 201.46875 20 C 201.46875 14.476562 205.949219 10 211.46875 10 C 216.992188 10 221.46875 14.476562 221.46875 20 \"/>\n",
       "<path style=\"fill-rule:nonzero;fill:rgb(100%,0%,0%);fill-opacity:1;stroke-width:1;stroke-linecap:butt;stroke-linejoin:miter;stroke:rgb(0%,0%,0%);stroke-opacity:1;stroke-miterlimit:10;\" d=\"M 30 421.195312 C 30 426.71875 25.523438 431.195312 20 431.195312 C 14.476562 431.195312 10 426.71875 10 421.195312 C 10 415.671875 14.476562 411.195312 20 411.195312 C 25.523438 411.195312 30 415.671875 30 421.195312 \"/>\n",
       "<path style=\"fill-rule:nonzero;fill:rgb(100%,0%,0%);fill-opacity:1;stroke-width:1;stroke-linecap:butt;stroke-linejoin:miter;stroke:rgb(0%,0%,0%);stroke-opacity:1;stroke-miterlimit:10;\" d=\"M 275.8125 308.226562 C 275.8125 313.75 271.335938 318.226562 265.8125 318.226562 C 260.289062 318.226562 255.8125 313.75 255.8125 308.226562 C 255.8125 302.707031 260.289062 298.226562 265.8125 298.226562 C 271.335938 298.226562 275.8125 302.707031 275.8125 308.226562 \"/>\n",
       "<path style=\"fill-rule:nonzero;fill:rgb(100%,0%,0%);fill-opacity:1;stroke-width:1;stroke-linecap:butt;stroke-linejoin:miter;stroke:rgb(0%,0%,0%);stroke-opacity:1;stroke-miterlimit:10;\" d=\"M 367.832031 170.761719 C 367.832031 176.28125 363.355469 180.761719 357.832031 180.761719 C 352.308594 180.761719 347.832031 176.28125 347.832031 170.761719 C 347.832031 165.238281 352.308594 160.761719 357.832031 160.761719 C 363.355469 160.761719 367.832031 165.238281 367.832031 170.761719 \"/>\n",
       "<path style=\"fill-rule:nonzero;fill:rgb(100%,0%,0%);fill-opacity:1;stroke-width:1;stroke-linecap:butt;stroke-linejoin:miter;stroke:rgb(0%,0%,0%);stroke-opacity:1;stroke-miterlimit:10;\" d=\"M 520.066406 524.835938 C 520.066406 530.359375 515.589844 534.835938 510.066406 534.835938 C 504.542969 534.835938 500.066406 530.359375 500.066406 524.835938 C 500.066406 519.3125 504.542969 514.835938 510.066406 514.835938 C 515.589844 514.835938 520.066406 519.3125 520.066406 524.835938 \"/>\n",
       "<path style=\"fill-rule:nonzero;fill:rgb(100%,0%,0%);fill-opacity:1;stroke-width:1;stroke-linecap:butt;stroke-linejoin:miter;stroke:rgb(0%,0%,0%);stroke-opacity:1;stroke-miterlimit:10;\" d=\"M 397.046875 398.933594 C 397.046875 404.457031 392.566406 408.933594 387.046875 408.933594 C 381.523438 408.933594 377.046875 404.457031 377.046875 398.933594 C 377.046875 393.410156 381.523438 388.933594 387.046875 388.933594 C 392.566406 388.933594 397.046875 393.410156 397.046875 398.933594 \"/>\n",
       "<path style=\"fill-rule:nonzero;fill:rgb(100%,0%,0%);fill-opacity:1;stroke-width:1;stroke-linecap:butt;stroke-linejoin:miter;stroke:rgb(0%,0%,0%);stroke-opacity:1;stroke-miterlimit:10;\" d=\"M 276.574219 216.640625 C 276.574219 222.164062 272.097656 226.640625 266.574219 226.640625 C 261.050781 226.640625 256.574219 222.164062 256.574219 216.640625 C 256.574219 211.121094 261.050781 206.640625 266.574219 206.640625 C 272.097656 206.640625 276.574219 211.121094 276.574219 216.640625 \"/>\n",
       "<path style=\"fill-rule:nonzero;fill:rgb(100%,0%,0%);fill-opacity:1;stroke-width:1;stroke-linecap:butt;stroke-linejoin:miter;stroke:rgb(0%,0%,0%);stroke-opacity:1;stroke-miterlimit:10;\" d=\"M 512.015625 247.410156 C 512.015625 252.929688 507.539062 257.410156 502.015625 257.410156 C 496.492188 257.410156 492.015625 252.929688 492.015625 247.410156 C 492.015625 241.886719 496.492188 237.410156 502.015625 237.410156 C 507.539062 237.410156 512.015625 241.886719 512.015625 247.410156 \"/>\n",
       "<path style=\"fill-rule:nonzero;fill:rgb(100%,0%,0%);fill-opacity:1;stroke-width:1;stroke-linecap:butt;stroke-linejoin:miter;stroke:rgb(0%,0%,0%);stroke-opacity:1;stroke-miterlimit:10;\" d=\"M 152.863281 365.296875 C 152.863281 370.820312 148.386719 375.296875 142.863281 375.296875 C 137.339844 375.296875 132.863281 370.820312 132.863281 365.296875 C 132.863281 359.773438 137.339844 355.296875 142.863281 355.296875 C 148.386719 355.296875 152.863281 359.773438 152.863281 365.296875 \"/>\n",
       "<path style=\"fill-rule:nonzero;fill:rgb(100%,0%,0%);fill-opacity:1;stroke-width:1;stroke-linecap:butt;stroke-linejoin:miter;stroke:rgb(0%,0%,0%);stroke-opacity:1;stroke-miterlimit:10;\" d=\"M 433.550781 326.550781 C 433.550781 332.074219 429.074219 336.550781 423.550781 336.550781 C 418.027344 336.550781 413.550781 332.074219 413.550781 326.550781 C 413.550781 321.027344 418.027344 316.550781 423.550781 316.550781 C 429.074219 316.550781 433.550781 321.027344 433.550781 326.550781 \"/>\n",
       "<path style=\"fill-rule:nonzero;fill:rgb(100%,0%,0%);fill-opacity:1;stroke-width:1;stroke-linecap:butt;stroke-linejoin:miter;stroke:rgb(0%,0%,0%);stroke-opacity:1;stroke-miterlimit:10;\" d=\"M 96.457031 580 C 96.457031 585.523438 91.980469 590 86.457031 590 C 80.933594 590 76.457031 585.523438 76.457031 580 C 76.457031 574.476562 80.933594 570 86.457031 570 C 91.980469 570 96.457031 574.476562 96.457031 580 \"/>\n",
       "<path style=\"fill-rule:nonzero;fill:rgb(100%,0%,0%);fill-opacity:1;stroke-width:1;stroke-linecap:butt;stroke-linejoin:miter;stroke:rgb(0%,0%,0%);stroke-opacity:1;stroke-miterlimit:10;\" d=\"M 590 386.734375 C 590 392.257812 585.523438 396.734375 580 396.734375 C 574.476562 396.734375 570 392.257812 570 386.734375 C 570 381.210938 574.476562 376.734375 580 376.734375 C 585.523438 376.734375 590 381.210938 590 386.734375 \"/>\n",
       "<path style=\"fill-rule:nonzero;fill:rgb(100%,0%,0%);fill-opacity:1;stroke-width:1;stroke-linecap:butt;stroke-linejoin:miter;stroke:rgb(0%,0%,0%);stroke-opacity:1;stroke-miterlimit:10;\" d=\"M 293.007812 389.953125 C 293.007812 395.476562 288.53125 399.953125 283.007812 399.953125 C 277.484375 399.953125 273.007812 395.476562 273.007812 389.953125 C 273.007812 384.429688 277.484375 379.953125 283.007812 379.953125 C 288.53125 379.953125 293.007812 384.429688 293.007812 389.953125 \"/>\n",
       "<path style=\"fill-rule:nonzero;fill:rgb(100%,0%,0%);fill-opacity:1;stroke-width:1;stroke-linecap:butt;stroke-linejoin:miter;stroke:rgb(0%,0%,0%);stroke-opacity:1;stroke-miterlimit:10;\" d=\"M 486.558594 396.957031 C 486.558594 402.480469 482.082031 406.957031 476.558594 406.957031 C 471.035156 406.957031 466.558594 402.480469 466.558594 396.957031 C 466.558594 391.4375 471.035156 386.957031 476.558594 386.957031 C 482.082031 386.957031 486.558594 391.4375 486.558594 396.957031 \"/>\n",
       "<path style=\"fill-rule:nonzero;fill:rgb(100%,0%,0%);fill-opacity:1;stroke-width:1;stroke-linecap:butt;stroke-linejoin:miter;stroke:rgb(0%,0%,0%);stroke-opacity:1;stroke-miterlimit:10;\" d=\"M 362.925781 546.910156 C 362.925781 552.433594 358.449219 556.910156 352.925781 556.910156 C 347.402344 556.910156 342.925781 552.433594 342.925781 546.910156 C 342.925781 541.386719 347.402344 536.910156 352.925781 536.910156 C 358.449219 536.910156 362.925781 541.386719 362.925781 546.910156 \"/>\n",
       "</g>\n",
       "</svg>\n"
      ],
      "text/plain": [
       "<igraph.drawing.Plot at 0x7fde558b5490>"
      ]
     },
     "execution_count": 32,
     "metadata": {},
     "output_type": "execute_result"
    }
   ],
   "source": [
    "# solve Exercise Part 2 here:\n",
    "\n",
    "import igraph as ig\n",
    "# graph = ig.Graph.Watts_Strogatz(1, 20, 3, 1)\n",
    "graph = ig.Graph.Watts_Strogatz(1, 20, 3,0.9)\n",
    "glayout = graph.layout('fruchterman_reingold')\n",
    "ig.plot(graph,layout = glayout)\n",
    "# ig.plot(graph)\n"
   ]
  },
  {
   "cell_type": "markdown",
   "metadata": {
    "collapsed": true
   },
   "source": [
    "Write your observations for Part 2 here\n"
   ]
  },
  {
   "cell_type": "code",
   "execution_count": null,
   "metadata": {},
   "outputs": [],
   "source": [
    "# ->with rewiring probablity zero,each node connects to nearest 3 nodes on both side of it which is\n",
    "# a \"regular graph\" and have symmetry. With rewiring probablity 0.25 edges become random not just the nearest node\n",
    "# -> with fruchterman_reingold layout system arange in the position of minimum energy(equilibrium)\n",
    "#-> with increase in dimension , number of nodes increases exponentially\n"
   ]
  }
 ],
 "metadata": {
  "anaconda-cloud": {},
  "kernelspec": {
   "display_name": "Python 2",
   "language": "python",
   "name": "python2"
  },
  "language_info": {
   "codemirror_mode": {
    "name": "ipython",
    "version": 2
   },
   "file_extension": ".py",
   "mimetype": "text/x-python",
   "name": "python",
   "nbconvert_exporter": "python",
   "pygments_lexer": "ipython2",
   "version": "2.7.14"
  }
 },
 "nbformat": 4,
 "nbformat_minor": 1
}
