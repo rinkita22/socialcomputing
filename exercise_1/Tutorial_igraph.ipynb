{
 "cells": [
  {
   "cell_type": "code",
   "execution_count": 6,
   "metadata": {},
   "outputs": [
    {
     "name": "stdout",
     "output_type": "stream",
     "text": [
      "IGRAPH U--- 3 3 --\n",
      "+ edges:\n",
      "0--1 1--2 0--2\n",
      "IGRAPH U--- 3 3 -- \n"
     ]
    }
   ],
   "source": [
    "import igraph as ig\n",
    "g = ig.Graph()\n",
    "g.add_vertices(3)\n",
    "g.add_edges([(0,1),(1,2),(2,0)])\n",
    "print(g)\n",
    "ig.summary(g)#used generally with large network , edges info is not shown"
   ]
  },
  {
   "cell_type": "code",
   "execution_count": 7,
   "metadata": {},
   "outputs": [
    {
     "data": {
      "text/plain": [
       "1"
      ]
     },
     "execution_count": 7,
     "metadata": {},
     "output_type": "execute_result"
    }
   ],
   "source": [
    "g.get_eid(1,2)#parameter vertices id returns id of edge"
   ]
  },
  {
   "cell_type": "code",
   "execution_count": 8,
   "metadata": {},
   "outputs": [
    {
     "name": "stdout",
     "output_type": "stream",
     "text": [
      "IGRAPH U--- 2 1 -- \n"
     ]
    }
   ],
   "source": [
    "g.delete_vertices(0)\n",
    "ig.summary(g)"
   ]
  },
  {
   "cell_type": "code",
   "execution_count": 10,
   "metadata": {},
   "outputs": [],
   "source": [
    "g.delete_edges(0)"
   ]
  },
  {
   "cell_type": "code",
   "execution_count": 13,
   "metadata": {},
   "outputs": [
    {
     "name": "stdout",
     "output_type": "stream",
     "text": [
      "IGRAPH U--- 127 126 -- \n"
     ]
    },
    {
     "data": {
      "text/plain": [
       "[(0, 1),\n",
       " (0, 2),\n",
       " (1, 3),\n",
       " (1, 4),\n",
       " (2, 5),\n",
       " (2, 6),\n",
       " (3, 7),\n",
       " (3, 8),\n",
       " (4, 9),\n",
       " (4, 10)]"
      ]
     },
     "execution_count": 13,
     "metadata": {},
     "output_type": "execute_result"
    }
   ],
   "source": [
    "#igraph includes two types of graph generator\n",
    "# -> Deterministic Graph Generator :Deterministic generators produce the same graph if you call them with\n",
    "#exactly the same parameters, it include methods for creating trees, regular lattices, rings, \n",
    "#extended chordal rings, several famous graphs and so on\n",
    "g = ig.Graph.Tree(127, 2)#generates tree graph with each node having two children\n",
    "ig.summary(g)\n",
    "g2 = ig.Graph.Tree(127, 2)\n",
    "g2.get_edgelist() == g.get_edgelist()\n",
    "g2.get_edgelist()[0:10]"
   ]
  },
  {
   "cell_type": "code",
   "execution_count": null,
   "metadata": {},
   "outputs": [],
   "source": [
    "# --> stochastic generators produce a different graph every time,it isused to create Erdős-Rényi random networks, \n",
    "#Barabási-Albert networks, geometric random graphs \n"
   ]
  }
 ],
 "metadata": {
  "kernelspec": {
   "display_name": "Python 3",
   "language": "python",
   "name": "python3"
  },
  "language_info": {
   "codemirror_mode": {
    "name": "ipython",
    "version": 3
   },
   "file_extension": ".py",
   "mimetype": "text/x-python",
   "name": "python",
   "nbconvert_exporter": "python",
   "pygments_lexer": "ipython3",
   "version": "3.6.4"
  }
 },
 "nbformat": 4,
 "nbformat_minor": 2
}
